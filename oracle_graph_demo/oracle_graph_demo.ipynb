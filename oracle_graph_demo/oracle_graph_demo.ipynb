{
 "cells": [
  {
   "cell_type": "markdown",
   "metadata": {},
   "source": [
    "### LibraryをImport"
   ]
  },
  {
   "cell_type": "code",
   "execution_count": 1,
   "metadata": {},
   "outputs": [
    {
     "ename": "ModuleNotFoundError",
     "evalue": "No module named 'langchain_community.graphs.oracle_graph'",
     "output_type": "error",
     "traceback": [
      "\u001b[0;31m---------------------------------------------------------------------------\u001b[0m",
      "\u001b[0;31mModuleNotFoundError\u001b[0m                       Traceback (most recent call last)",
      "Cell \u001b[0;32mIn[1], line 6\u001b[0m\n\u001b[1;32m      4\u001b[0m \u001b[38;5;28;01mfrom\u001b[39;00m \u001b[38;5;21;01mlangchain_openai\u001b[39;00m \u001b[38;5;28;01mimport\u001b[39;00m AzureChatOpenAI\n\u001b[1;32m      5\u001b[0m sys\u001b[38;5;241m.\u001b[39mpath\u001b[38;5;241m.\u001b[39mappend(\u001b[38;5;124m'\u001b[39m\u001b[38;5;124m/home/ubuntu/oci_script/ochacafe_s9_1/langchain/libs/community\u001b[39m\u001b[38;5;124m'\u001b[39m)\n\u001b[0;32m----> 6\u001b[0m \u001b[38;5;28;01mfrom\u001b[39;00m \u001b[38;5;21;01mlangchain_community\u001b[39;00m\u001b[38;5;21;01m.\u001b[39;00m\u001b[38;5;21;01mgraphs\u001b[39;00m\u001b[38;5;21;01m.\u001b[39;00m\u001b[38;5;21;01moracle_graph\u001b[39;00m \u001b[38;5;28;01mimport\u001b[39;00m OracleGraph\n\u001b[1;32m      8\u001b[0m \u001b[38;5;28;01mimport\u001b[39;00m \u001b[38;5;21;01moracledb\u001b[39;00m\n\u001b[1;32m      9\u001b[0m \u001b[38;5;28;01mfrom\u001b[39;00m \u001b[38;5;21;01mtyping\u001b[39;00m \u001b[38;5;28;01mimport\u001b[39;00m (Any, Dict, Type)\n",
      "\u001b[0;31mModuleNotFoundError\u001b[0m: No module named 'langchain_community.graphs.oracle_graph'"
     ]
    }
   ],
   "source": [
    "import os\n",
    "import sys\n",
    "\n",
    "from langchain_openai import AzureChatOpenAI\n",
    "sys.path.append('/home/ubuntu/oci_script/ochacafe_s9_1/langchain/libs/community')\n",
    "from langchain_community.graphs.oracle_graph import OracleGraph\n",
    "\n",
    "import oracledb\n",
    "from typing import (Any, Dict, Type)\n",
    "\n",
    "from langchain_core.documents import Document\n",
    "from langchain_core.prompts import ChatPromptTemplate\n",
    "from langchain_experimental.graph_transformers import LLMGraphTransformer\n",
    "from pydantic import BaseModel, Field\n",
    "from langchain_core.tools import BaseTool\n",
    "from langchain.agents import AgentExecutor, create_tool_calling_agent\n",
    "\n",
    "from dotenv import load_dotenv, find_dotenv\n",
    "\n",
    "_ = load_dotenv(find_dotenv())"
   ]
  },
  {
   "cell_type": "markdown",
   "metadata": {},
   "source": [
    "### 環境変数を設定"
   ]
  },
  {
   "cell_type": "code",
   "execution_count": 3,
   "metadata": {},
   "outputs": [],
   "source": [
    "UN = os.environ.get(\"UN\")\n",
    "PW = os.environ.get(\"PW\")\n",
    "DSN = os.environ.get(\"DSN\")\n",
    "JDBC_URL=os.environ[\"JDBC\"]\n",
    "wallet_dir = os.environ.get('TNS_ADMIN')\n",
    "wallet_pw = os.environ.get('PW')\n",
    "\n",
    "AZURE_OPENAI_API_VERSION=os.environ[\"AZURE_OPENAI_API_VERSION\"]\n",
    "AZURE_OPENAI_CHAT_DEPLOYMENT_NAME=os.environ[\"AZURE_OPENAI_CHAT_DEPLOYMENT_NAME\"]\n",
    "GRAPH_NAME=os.environ[\"GRAPH_NAME\"]\n"
   ]
  },
  {
   "cell_type": "markdown",
   "metadata": {},
   "source": [
    "### Oracle Connection"
   ]
  },
  {
   "cell_type": "code",
   "execution_count": 20,
   "metadata": {},
   "outputs": [
    {
     "name": "stdout",
     "output_type": "stream",
     "text": [
      "20:58:21.763 [main] DEBUG org.apache.commons.vfs2.impl.DefaultFileSystemManager -- Using \"/tmp/vfs_cache-1035463264368401156\" as temporary files store.\n",
      "20:58:21.994 [main] DEBUG org.metaborg.spoofax.core.language.LanguageComponentFactory -- Creating language component for zip:file:///tmp/pgql.spoofax-language112681862806967389921e1d88a5-43b4-4b50-be9e-d06246e9f693!/\n",
      "20:58:22.007 [main] DEBUG org.metaborg.core.language.LanguageService -- Adding language pgql-lang\n",
      "20:58:22.008 [main] DEBUG org.metaborg.core.language.LanguageService -- Adding language impl. oracle.pg:pgqllang:0.0.0SNAPSHOT\n",
      "20:58:22.008 [main] DEBUG org.metaborg.core.language.LanguageService -- Adding language comp. oracle.pg:pgqllang:0.0.0SNAPSHOT@zip:file:///tmp/pgql.spoofax-language112681862806967389921e1d88a5-43b4-4b50-be9e-d06246e9f693!/\n",
      "20:58:22.490 [main] DEBUG org.metaborg.spoofax.core.stratego.StrategoRuntimeService -- Creating prototype runtime for language comp. oracle.pg:pgqllang:0.0.0SNAPSHOT@zip:file:///tmp/pgql.spoofax-language112681862806967389921e1d88a5-43b4-4b50-be9e-d06246e9f693!/\n",
      "20:58:22.491 [main] DEBUG org.metaborg.spoofax.core.stratego.StrategoRuntimeService -- Done creating prototype runtime for language comp. oracle.pg:pgqllang:0.0.0SNAPSHOT@zip:file:///tmp/pgql.spoofax-language112681862806967389921e1d88a5-43b4-4b50-be9e-d06246e9f693!/\n",
      "20:58:23.014 [main] DEBUG org.metaborg.spoofax.core.stratego.StrategoRuntimeService -- Done loading files for prototype language comp. oracle.pg:pgqllang:0.0.0SNAPSHOT@zip:file:///tmp/pgql.spoofax-language112681862806967389921e1d88a5-43b4-4b50-be9e-d06246e9f693!/\n",
      "Connection successful!\n"
     ]
    }
   ],
   "source": [
    "oracledb.init_oracle_client()\n",
    "client = OracleGraph(url=JDBC_URL, username=UN, password=PW)\n",
    "\n",
    "try:\n",
    "    sql_connection = oracledb.connect(user=UN, password=PW, dsn=DSN, config_dir=wallet_dir, wallet_location=wallet_dir, wallet_password=wallet_pw)\n",
    "    print(\"Connection successful!\")\n",
    "except Exception as e:\n",
    "    print(\"Connection failed!\")\n",
    "client.set_connection(client=sql_connection)\n"
   ]
  },
  {
   "cell_type": "markdown",
   "metadata": {},
   "source": [
    "#### Clean up"
   ]
  },
  {
   "cell_type": "code",
   "execution_count": 5,
   "metadata": {},
   "outputs": [
    {
     "name": "stderr",
     "output_type": "stream",
     "text": [
      "2024-11-30 00:28:06,858 - ERROR - Failed to execute query: DPY-1003: the executed statement does not return rows\n"
     ]
    },
    {
     "data": {
      "text/plain": [
       "[]"
      ]
     },
     "execution_count": 5,
     "metadata": {},
     "output_type": "execute_result"
    }
   ],
   "source": [
    "drop_all_query = \"\"\"\n",
    "BEGIN\n",
    "    FOR cur_rec IN (SELECT object_name FROM user_objects WHERE object_type = 'TABLE') LOOP\n",
    "        EXECUTE IMMEDIATE 'DROP TABLE \"' || cur_rec.object_name || '\" CASCADE CONSTRAINTS';\n",
    "    END LOOP;\n",
    "END;\n",
    "\"\"\"\n",
    "client.sql_execute(query=drop_all_query)"
   ]
  },
  {
   "cell_type": "markdown",
   "metadata": {},
   "source": [
    "### LLMの設定"
   ]
  },
  {
   "cell_type": "code",
   "execution_count": 6,
   "metadata": {},
   "outputs": [],
   "source": [
    "llm = AzureChatOpenAI(\n",
    "        api_version=AZURE_OPENAI_API_VERSION,\n",
    "        azure_deployment=AZURE_OPENAI_CHAT_DEPLOYMENT_NAME,\n",
    "        temperature=0.0,\n",
    "    )"
   ]
  },
  {
   "cell_type": "markdown",
   "metadata": {},
   "source": [
    "### GraphDocumentsの作成"
   ]
  },
  {
   "cell_type": "code",
   "execution_count": 7,
   "metadata": {},
   "outputs": [
    {
     "name": "stdout",
     "output_type": "stream",
     "text": [
      "[GraphDocument(nodes=[Node(id='織田信長', type='Person', properties={}), Node(id='尾張国', type='Place', properties={}), Node(id='愛知県', type='Place', properties={}), Node(id='織田信秀', type='Person', properties={}), Node(id='今川義元', type='Person', properties={}), Node(id='足利義昭', type='Person', properties={}), Node(id='畿内', type='Place', properties={}), Node(id='豊臣秀吉', type='Person', properties={}), Node(id='徳川家康', type='Person', properties={}), Node(id='明智光秀', type='Person', properties={}), Node(id='本能寺', type='Place', properties={})], relationships=[Relationship(source=Node(id='織田信長', type='Person', properties={}), target=Node(id='尾張国', type='Place', properties={}), type='RESIDES_AT', properties={}), Relationship(source=Node(id='尾張国', type='Place', properties={}), target=Node(id='愛知県', type='Place', properties={}), type='RESIDES_AT', properties={}), Relationship(source=Node(id='織田信長', type='Person', properties={}), target=Node(id='織田信秀', type='Person', properties={}), type='RETAINER', properties={}), Relationship(source=Node(id='織田信長', type='Person', properties={}), target=Node(id='今川義元', type='Person', properties={}), type='RETAINER', properties={}), Relationship(source=Node(id='織田信長', type='Person', properties={}), target=Node(id='足利義昭', type='Person', properties={}), type='RETAINER', properties={}), Relationship(source=Node(id='織田信長', type='Person', properties={}), target=Node(id='畿内', type='Place', properties={}), type='RESIDES_AT', properties={}), Relationship(source=Node(id='織田信長', type='Person', properties={}), target=Node(id='豊臣秀吉', type='Person', properties={}), type='RETAINER', properties={}), Relationship(source=Node(id='織田信長', type='Person', properties={}), target=Node(id='徳川家康', type='Person', properties={}), type='RETAINER', properties={}), Relationship(source=Node(id='織田信長', type='Person', properties={}), target=Node(id='明智光秀', type='Person', properties={}), type='RETAINER', properties={}), Relationship(source=Node(id='織田信長', type='Person', properties={}), target=Node(id='本能寺', type='Place', properties={}), type='RESIDES_AT', properties={})], source=Document(metadata={}, page_content='\\n織田 信長（おだ のぶなが）は、日本の戦国時代から安土桃山時代にかけての武将・大名。戦国の三英傑の一人。\\n尾張国（現在の愛知県）出身。織田信秀の嫡男。家督争いの混乱を収めた後に、桶狭間の戦いで敵大将の今川義元を討ち取り、勢力を拡大した。足利義昭を奉じて上洛し、後には義昭を追放することで、畿内を中心に独自の中央政権（「織田政権」[注釈 4]）を確立して天下人となった。\\n豊臣秀吉、徳川家康や明智光秀を家臣とし信長の政権を広げた。しかし、天正10年6月2日（1582年6月21日）、家臣・明智光秀に謀反を起こされ、本能寺で自害した。\\nこれまで信長の政権は、豊臣秀吉による豊臣政権、徳川家康が開いた江戸幕府への流れをつくった画期的なもので、その政治手法も革新的なものであるとみなされてきた[2]。しかし、近年の歴史学界ではその政策の前時代性が指摘されるようになり、しばしば「中世社会の最終段階」とも評され[2]、その革新性を否定する研究が主流となっている\\n'))]\n"
     ]
    }
   ],
   "source": [
    "llm_transformer = LLMGraphTransformer(\n",
    "    llm=llm,\n",
    "    allowed_nodes=[\"Person\", \"Place\", \"Role\"],\n",
    "    allowed_relationships=[\"Retainer\", \"Resides_at\", \"Had_role\"]\n",
    "    )\n",
    "\n",
    "text = \"\"\"\n",
    "織田 信長（おだ のぶなが）は、日本の戦国時代から安土桃山時代にかけての武将・大名。戦国の三英傑の一人。\n",
    "尾張国（現在の愛知県）出身。織田信秀の嫡男。家督争いの混乱を収めた後に、桶狭間の戦いで敵大将の今川義元を討ち取り、勢力を拡大した。足利義昭を奉じて上洛し、後には義昭を追放することで、畿内を中心に独自の中央政権（「織田政権」[注釈 4]）を確立して天下人となった。\n",
    "豊臣秀吉、徳川家康や明智光秀を家臣とし信長の政権を広げた。しかし、天正10年6月2日（1582年6月21日）、家臣・明智光秀に謀反を起こされ、本能寺で自害した。\n",
    "これまで信長の政権は、豊臣秀吉による豊臣政権、徳川家康が開いた江戸幕府への流れをつくった画期的なもので、その政治手法も革新的なものであるとみなされてきた[2]。しかし、近年の歴史学界ではその政策の前時代性が指摘されるようになり、しばしば「中世社会の最終段階」とも評され[2]、その革新性を否定する研究が主流となっている\n",
    "\"\"\"\n",
    "\n",
    "documents = [Document(page_content=text)]\n",
    "graph_documents = llm_transformer.convert_to_graph_documents(documents)\n",
    "print(graph_documents)\n"
   ]
  },
  {
   "cell_type": "markdown",
   "metadata": {},
   "source": [
    "### Oracle Graphの作成"
   ]
  },
  {
   "cell_type": "code",
   "execution_count": 8,
   "metadata": {},
   "outputs": [
    {
     "name": "stderr",
     "output_type": "stream",
     "text": [
      "2024-11-30 00:28:19,372 - ERROR - Failed to execute query: ORA-42421: property graph does not exist\n",
      "Help: https://docs.oracle.com/error-help/db/ora-42421/\n"
     ]
    }
   ],
   "source": [
    "client.add_graph_documents(graph_documents=graph_documents, graph_name='person_graph')"
   ]
  },
  {
   "cell_type": "markdown",
   "metadata": {},
   "source": [
    "### パターンマッチング"
   ]
  },
  {
   "cell_type": "code",
   "execution_count": 21,
   "metadata": {},
   "outputs": [
    {
     "name": "stdout",
     "output_type": "stream",
     "text": [
      "[('今川義元',), ('徳川家康',), ('明智光秀',), ('織田信秀',), ('織田信長',), ('豊臣秀吉',), ('足利義昭',)]\n"
     ]
    }
   ],
   "source": [
    "select_query = \"\"\"\n",
    "SELECT *\n",
    "FROM GRAPH_TABLE( PERSON_GRAPH\n",
    "MATCH (n IS Person)\n",
    "COLUMNS(n.id)\n",
    ")\n",
    "\"\"\"\n",
    "sql_results = client.sql_execute(query=select_query)\n",
    "print(sql_results)"
   ]
  },
  {
   "cell_type": "code",
   "execution_count": 24,
   "metadata": {},
   "outputs": [
    {
     "name": "stdout",
     "output_type": "stream",
     "text": [
      "[('織田信長', '織田信秀'), ('織田信長', '今川義元'), ('織田信長', '足利義昭'), ('織田信長', '豊臣秀吉'), ('織田信長', '徳川家康'), ('織田信長', '明智光秀')]\n"
     ]
    }
   ],
   "source": [
    "select_query = \"\"\"\n",
    "SELECT a, b\n",
    "FROM GRAPH_TABLE( PERSON_GRAPH\n",
    "MATCH (a IS Person) - [e] -> (b IS Person)\n",
    "WHERE e.name = 'RETAINER' and a.id = '織田信長'\n",
    "COLUMNS(a.id as a, b.id as b))\n",
    "\"\"\"\n",
    "sql_results = client.sql_execute(query=select_query)\n",
    "print(sql_results)"
   ]
  },
  {
   "cell_type": "markdown",
   "metadata": {},
   "source": [
    "#### Tools\n",
    "* RetainerTool: 部下を取得する\n",
    "* ResideTool: 居住地を取得する\n",
    "* RoleTool: Roleを取得する"
   ]
  },
  {
   "cell_type": "code",
   "execution_count": 38,
   "metadata": {},
   "outputs": [],
   "source": [
    "class RetainerToolInput(BaseModel):\n",
    "    query: str = Field(description=\"A query for RetainerTool\")\n",
    "    names: str = Field(description=\"Name of target person\")\n",
    "\n",
    "class RetainerTool(BaseTool):\n",
    "    name: str = \"retainer_tool\"\n",
    "    description: str =\"\"\"\n",
    "    A function that identifies someone who is retainer a particular person \n",
    "    and returns the names of both individuals.\n",
    "    \"\"\"\n",
    "    args_schema: Type[BaseModel] = RetainerToolInput\n",
    "\n",
    "    def _run(self, names: str, *args: Any, **kwargs: Any) -> str:\n",
    "        GRAPH_NAME = os.getenv(\"GRAPH_NAME\")\n",
    "        return f\"\"\"\n",
    "        SELECT a, b\n",
    "        FROM GRAPH_TABLE({GRAPH_NAME}\n",
    "        MATCH (a IS Person) - [e] -> (b IS Person)\n",
    "        WHERE e.name = 'RETAINER' and a.id = '{names}'\n",
    "        COLUMNS(a.id as a, b.id as b))\n",
    "        \"\"\"\n",
    "\n",
    "class RoleToolInput(BaseModel):\n",
    "    query: str = Field(description=\"A query for RoleTool\")\n",
    "    names: str = Field(description=\"Name of target person\")\n",
    "\n",
    "class RoleTool(BaseTool):\n",
    "    name: str = \"role_tool\"\n",
    "    description: str = \"\"\"\n",
    "    A function that identifies a role a particular person holds \n",
    "    and returns the names of the person and the role.\n",
    "    \"\"\"\n",
    "    args_schema: Type[BaseModel] = RoleToolInput\n",
    "\n",
    "    def _run(self, names: str, *args: Any, **kwargs: Any) -> str:\n",
    "        GRAPH_NAME = os.getenv(\"GRAPH_NAME\")\n",
    "        return f\"\"\"\n",
    "        SELECT a, b\n",
    "        FROM GRAPH_TABLE({GRAPH_NAME}\n",
    "        MATCH (a IS Person) - [e] -> (b IS Role)\n",
    "        WHERE e.name = 'HAD_ROLE' and a.id = '{names}'\n",
    "        COLUMNS(a.id as a, b.id as b))\n",
    "        \"\"\"\n",
    "\n",
    "class ResideToolInput(BaseModel):\n",
    "    query: str = Field(description=\"A query for ResideTool\")\n",
    "    names: str = Field(description=\"Name of target person\")\n",
    "\n",
    "class ResideTool(BaseTool):\n",
    "    name: str = \"recommend_tool\"\n",
    "    description: str =\"\"\"\n",
    "    A function that identifies a person who reside at particular place\n",
    "    and returns the names of the person and the place.\n",
    "    \"\"\"\n",
    "    args_schema: Type[BaseModel] = ResideToolInput\n",
    "\n",
    "    def _run(self, names: str, *args: Any, **kwargs: Any) -> str:\n",
    "        GRAPH_NAME = os.getenv(\"GRAPH_NAME\")\n",
    "        return f\"\"\"\n",
    "        SELECT a, c\n",
    "        FROM GRAPH_TABLE({GRAPH_NAME}\n",
    "        MATCH (a IS Person) - [b is Resides_at] -> (c is Place)\n",
    "        WHERE a.id = '{names}'\n",
    "        COLUMNS(a.id as a, c.id as c))\n",
    "        \"\"\"\n",
    "\n",
    "class SQLExecuteToolInput(BaseModel):\n",
    "    query: str = Field(description=\"A query for SQLExecuteTool\")\n",
    "\n",
    "class SQLExecuteTool(BaseTool):\n",
    "    name: str = \"sql_execute_tool\"\n",
    "    description: str = \"\"\"\n",
    "    A function that executes SQL queries and returns the results.\n",
    "    \"\"\"\n",
    "    args_schema: Type[BaseModel] = SQLExecuteToolInput\n",
    "    \n",
    "    def _run(self, query: str, *args: Any, **kwargs: Any) -> list:\n",
    "        return client.sql_execute(query=query)\n",
    "\n",
    "\n",
    "reside = ResideTool()\n",
    "role = RoleTool()\n",
    "retainer = RetainerTool()\n",
    "sqlexecute = SQLExecuteTool()\n",
    "tools=[reside, role, retainer, sqlexecute]"
   ]
  },
  {
   "cell_type": "markdown",
   "metadata": {},
   "source": [
    "### Agentsを作成"
   ]
  },
  {
   "cell_type": "code",
   "execution_count": 34,
   "metadata": {},
   "outputs": [
    {
     "name": "stdout",
     "output_type": "stream",
     "text": [
      "[SystemMessagePromptTemplate(prompt=PromptTemplate(input_variables=[], input_types={}, partial_variables={}, template='You are a helpful assistant'), additional_kwargs={}), HumanMessagePromptTemplate(prompt=PromptTemplate(input_variables=['input'], input_types={}, partial_variables={}, template='{input}'), additional_kwargs={}), MessagesPlaceholder(variable_name='agent_scratchpad', optional=True)]\n"
     ]
    }
   ],
   "source": [
    "prompt = ChatPromptTemplate.from_messages(\n",
    "    [\n",
    "        (\"system\", \"You are a helpful assistant\"),\n",
    "        (\"human\", \"{input}\"),\n",
    "        (\"placeholder\", \"{agent_scratchpad}\"),\n",
    "    ]\n",
    ")\n",
    "print(prompt.messages)\n",
    "agent = create_tool_calling_agent(llm=llm, tools=tools, prompt=prompt)\n",
    "sql_agent = AgentExecutor(agent=agent, tools=tools, verbose=True)\n"
   ]
  },
  {
   "cell_type": "markdown",
   "metadata": {},
   "source": [
    "#### Agentsを実行"
   ]
  },
  {
   "cell_type": "code",
   "execution_count": 35,
   "metadata": {},
   "outputs": [
    {
     "name": "stdout",
     "output_type": "stream",
     "text": [
      "\u001b[32;1m\u001b[1;3m\n",
      "Invoking: `retainer_tool` with `{'query': '織田信長の部下', 'names': '織田信長'}`\n",
      "\n",
      "\n",
      "\u001b[0m\u001b[38;5;200m\u001b[1;3m\n",
      "        SELECT a, b\n",
      "        FROM GRAPH_TABLE(PERSON_GRAPH\n",
      "        MATCH (a IS Person) - [e] -> (b IS Person)\n",
      "        WHERE e.name = 'RETAINER' and a.id = '織田信長'\n",
      "        COLUMNS(a.id as a, b.id as b))\n",
      "        \u001b[0m\u001b[32;1m\u001b[1;3m\n",
      "Invoking: `sql_execute_tool` with `{'query': \"SELECT a, b FROM GRAPH_TABLE(PERSON_GRAPH MATCH (a IS Person) - [e] -> (b IS Person) WHERE e.name = 'RETAINER' and a.id = '織田信長' COLUMNS(a.id as a, b.id as b))\"}`\n",
      "\n",
      "\n",
      "\u001b[0m\u001b[36;1m\u001b[1;3m[('織田信長', '織田信秀'), ('織田信長', '今川義元'), ('織田信長', '足利義昭'), ('織田信長', '豊臣秀吉'), ('織田信長', '徳川家康'), ('織田信長', '明智光秀')]\u001b[0m\u001b[32;1m\u001b[1;3m織田信長の部下は以下の人物です：\n",
      "\n",
      "- 織田信秀\n",
      "- 今川義元\n",
      "- 足利義昭\n",
      "- 豊臣秀吉\n",
      "- 徳川家康\n",
      "- 明智光秀\u001b[0m\n",
      "\n",
      "\u001b[1m> Finished chain.\u001b[0m\n"
     ]
    },
    {
     "data": {
      "text/plain": [
       "{'input': '織田信長の部下は誰ですか?',\n",
       " 'output': '織田信長の部下は以下の人物です：\\n\\n- 織田信秀\\n- 今川義元\\n- 足利義昭\\n- 豊臣秀吉\\n- 徳川家康\\n- 明智光秀'}"
      ]
     },
     "execution_count": 35,
     "metadata": {},
     "output_type": "execute_result"
    }
   ],
   "source": [
    "sql_agent.invoke({'input': \"織田信長の部下は誰ですか?\"})"
   ]
  },
  {
   "cell_type": "code",
   "execution_count": 37,
   "metadata": {},
   "outputs": [
    {
     "name": "stdout",
     "output_type": "stream",
     "text": [
      "\u001b[32;1m\u001b[1;3m\n",
      "Invoking: `recommend_tool` with `{'query': '織田信長の居住地', 'names': '織田信長'}`\n",
      "\n",
      "\n",
      "\u001b[0m\u001b[36;1m\u001b[1;3m\n",
      "        SELECT a, c\n",
      "        FROM GRAPH_TABLE(PERSON_GRAPH\n",
      "        MATCH (a IS Person) - [b is Resides_at] -> (c is Place)\n",
      "        WHERE a.id = 織田信長\n",
      "        COLUMNS(a.id as a, c.id as c))\n",
      "        \u001b[0m\u001b[32;1m\u001b[1;3m\n",
      "Invoking: `sql_execute_tool` with `{'query': 'SELECT a, c FROM GRAPH_TABLE(PERSON_GRAPH MATCH (a IS Person) - [b is Resides_at] -> (c is Place) WHERE a.id = 織田信長 COLUMNS(a.id as a, c.id as c))'}`\n",
      "\n",
      "\n",
      "\u001b[0m"
     ]
    },
    {
     "name": "stderr",
     "output_type": "stream",
     "text": [
      "2024-12-14 21:14:12,998 - ERROR - Failed to execute query: ORA-40956: invalid property name format\n",
      "Help: https://docs.oracle.com/error-help/db/ora-40956/\n"
     ]
    },
    {
     "name": "stdout",
     "output_type": "stream",
     "text": [
      "\u001b[36;1m\u001b[1;3m[]\u001b[0m\u001b[32;1m\u001b[1;3m織田信長の居住地に関する情報は見つかりませんでした。他に知りたいことがあれば教えてください。\u001b[0m\n",
      "\n",
      "\u001b[1m> Finished chain.\u001b[0m\n"
     ]
    },
    {
     "data": {
      "text/plain": [
       "{'input': '織田信長の居住地はどこですか?',\n",
       " 'output': '織田信長の居住地に関する情報は見つかりませんでした。他に知りたいことがあれば教えてください。'}"
      ]
     },
     "execution_count": 37,
     "metadata": {},
     "output_type": "execute_result"
    }
   ],
   "source": [
    "sql_agent.invoke({'input': \"織田信長の居住地はどこですか?\"})"
   ]
  }
 ],
 "metadata": {
  "kernelspec": {
   "display_name": ".venv",
   "language": "python",
   "name": "python3"
  },
  "language_info": {
   "codemirror_mode": {
    "name": "ipython",
    "version": 3
   },
   "file_extension": ".py",
   "mimetype": "text/x-python",
   "name": "python",
   "nbconvert_exporter": "python",
   "pygments_lexer": "ipython3",
   "version": "3.11.9"
  }
 },
 "nbformat": 4,
 "nbformat_minor": 2
}
